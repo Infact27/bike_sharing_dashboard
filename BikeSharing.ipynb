{
  "nbformat": 4,
  "nbformat_minor": 0,
  "metadata": {
    "colab": {
      "provenance": [],
      "collapsed_sections": [
        "EhN5R4hr8DC1",
        "UJdYb8rqTPEo"
      ]
    },
    "kernelspec": {
      "name": "python3",
      "display_name": "Python 3"
    },
    "language_info": {
      "name": "python"
    }
  },
  "cells": [
    {
      "cell_type": "markdown",
      "source": [
        "# Proyek Analisis Data: Bike Sharing\n",
        "- **Nama:** Yoga Prasetya\n",
        "- **Email:** yogapmalang@gmail.com\n",
        "- **ID Dicoding:** b25b9d004"
      ],
      "metadata": {
        "id": "t2tUf3DvsXsL"
      }
    },
    {
      "cell_type": "markdown",
      "source": [
        "## Menentukan Pertanyaan Bisnis\n",
        "- Bagaimana tren penyewaan sepeda per bulan? Apakah ada bulan dengan permintaan paling tinggi atau paling rendah?\n",
        "- Musim apa yang memiliki rata-rata penyewaan sepeda tertinggi dan terendah?\n",
        "- Kondisi cuaca mana yang menyebabkan penyewaan sepeda paling sedikit?\n",
        "- Apakah orang tetap menyewa sepeda saat hujan ringan, atau rata-rata penyewaan langsung turun drastis?"
      ],
      "metadata": {
        "id": "fR2vfo5-tyTD"
      }
    },
    {
      "cell_type": "markdown",
      "metadata": {
        "id": "H-z4QGlO8DC1"
      },
      "source": [
        "## Import Semua Packages/Library yang Digunakan"
      ]
    },
    {
      "cell_type": "code",
      "source": [
        "import numpy as np\n",
        "import pandas as pd\n",
        "import matplotlib.pyplot as plt\n",
        "import seaborn as sns\n",
        "import calendar"
      ],
      "metadata": {
        "id": "0s2orFjZr7bO"
      },
      "execution_count": 20,
      "outputs": []
    },
    {
      "cell_type": "markdown",
      "metadata": {
        "id": "h_Sh51Xy8DC1"
      },
      "source": [
        "## Data Wrangling"
      ]
    },
    {
      "cell_type": "markdown",
      "metadata": {
        "id": "sXU2GBYu8DC1"
      },
      "source": [
        "### Gathering Data"
      ]
    },
    {
      "cell_type": "code",
      "source": [
        "day_df = pd.read_csv(\"https://raw.githubusercontent.com/Infact27/BikeSharing_Data/refs/heads/main/day.csv\")"
      ],
      "metadata": {
        "id": "FksxKhgpzqLj"
      },
      "execution_count": 21,
      "outputs": []
    },
    {
      "cell_type": "code",
      "execution_count": 22,
      "metadata": {
        "id": "zjCBk1BI8DC1"
      },
      "outputs": [],
      "source": [
        "hour_df = pd.read_csv(\"https://raw.githubusercontent.com/Infact27/BikeSharing_Data/refs/heads/main/hour.csv\")"
      ]
    },
    {
      "cell_type": "markdown",
      "metadata": {
        "id": "FHSiqaZp8DC1"
      },
      "source": [
        "### Assessing Data"
      ]
    },
    {
      "cell_type": "code",
      "source": [
        "day_df.info()"
      ],
      "metadata": {
        "id": "ax-3tEjc9Cj1",
        "colab": {
          "base_uri": "https://localhost:8080/"
        },
        "outputId": "f5218e1e-8308-422a-f6b2-0e259bfc3dc1"
      },
      "execution_count": 23,
      "outputs": [
        {
          "output_type": "stream",
          "name": "stdout",
          "text": [
            "<class 'pandas.core.frame.DataFrame'>\n",
            "RangeIndex: 731 entries, 0 to 730\n",
            "Data columns (total 16 columns):\n",
            " #   Column      Non-Null Count  Dtype  \n",
            "---  ------      --------------  -----  \n",
            " 0   instant     731 non-null    int64  \n",
            " 1   dteday      731 non-null    object \n",
            " 2   season      731 non-null    int64  \n",
            " 3   yr          731 non-null    int64  \n",
            " 4   mnth        731 non-null    int64  \n",
            " 5   holiday     731 non-null    int64  \n",
            " 6   weekday     731 non-null    int64  \n",
            " 7   workingday  731 non-null    int64  \n",
            " 8   weathersit  731 non-null    int64  \n",
            " 9   temp        731 non-null    float64\n",
            " 10  atemp       731 non-null    float64\n",
            " 11  hum         731 non-null    float64\n",
            " 12  windspeed   731 non-null    float64\n",
            " 13  casual      731 non-null    int64  \n",
            " 14  registered  731 non-null    int64  \n",
            " 15  cnt         731 non-null    int64  \n",
            "dtypes: float64(4), int64(11), object(1)\n",
            "memory usage: 91.5+ KB\n"
          ]
        }
      ]
    },
    {
      "cell_type": "markdown",
      "source": [
        "day_df.info() untuk mendapatkan informasi mengenai data pada day_df"
      ],
      "metadata": {
        "id": "d3bPstuwPAdp"
      }
    },
    {
      "cell_type": "code",
      "source": [
        "hour_df.info()"
      ],
      "metadata": {
        "colab": {
          "base_uri": "https://localhost:8080/"
        },
        "id": "lLa7H0NUz9g0",
        "outputId": "d2988097-2059-4e3d-c73c-391f76f2fae1"
      },
      "execution_count": 24,
      "outputs": [
        {
          "output_type": "stream",
          "name": "stdout",
          "text": [
            "<class 'pandas.core.frame.DataFrame'>\n",
            "RangeIndex: 17379 entries, 0 to 17378\n",
            "Data columns (total 17 columns):\n",
            " #   Column      Non-Null Count  Dtype  \n",
            "---  ------      --------------  -----  \n",
            " 0   instant     17379 non-null  int64  \n",
            " 1   dteday      17379 non-null  object \n",
            " 2   season      17379 non-null  int64  \n",
            " 3   yr          17379 non-null  int64  \n",
            " 4   mnth        17379 non-null  int64  \n",
            " 5   hr          17379 non-null  int64  \n",
            " 6   holiday     17379 non-null  int64  \n",
            " 7   weekday     17379 non-null  int64  \n",
            " 8   workingday  17379 non-null  int64  \n",
            " 9   weathersit  17379 non-null  int64  \n",
            " 10  temp        17379 non-null  float64\n",
            " 11  atemp       17379 non-null  float64\n",
            " 12  hum         17379 non-null  float64\n",
            " 13  windspeed   17379 non-null  float64\n",
            " 14  casual      17379 non-null  int64  \n",
            " 15  registered  17379 non-null  int64  \n",
            " 16  cnt         17379 non-null  int64  \n",
            "dtypes: float64(4), int64(12), object(1)\n",
            "memory usage: 2.3+ MB\n"
          ]
        }
      ]
    },
    {
      "cell_type": "markdown",
      "source": [
        "hour_df.info() untuk mendapatkan informasi mengenai data pada hour_df"
      ],
      "metadata": {
        "id": "08NVBsu2PJoU"
      }
    },
    {
      "cell_type": "code",
      "source": [
        "print(\"day_df duplikasi: \", day_df.duplicated().sum())\n",
        "print(\"hour_df duplikasi: \", hour_df.duplicated().sum())"
      ],
      "metadata": {
        "colab": {
          "base_uri": "https://localhost:8080/"
        },
        "id": "O567ogux0Xaj",
        "outputId": "acc83c67-66b3-41b3-cc3f-32650bfe49d5"
      },
      "execution_count": 25,
      "outputs": [
        {
          "output_type": "stream",
          "name": "stdout",
          "text": [
            "day_df duplikasi:  0\n",
            "hour_df duplikasi:  0\n"
          ]
        }
      ]
    },
    {
      "cell_type": "markdown",
      "source": [
        "untuk mencari tahu apakah ada duplikasi data pada day_df atau hour_df"
      ],
      "metadata": {
        "id": "MyNGomwXPNQf"
      }
    },
    {
      "cell_type": "markdown",
      "source": [
        "**Insight:**\n",
        "- pada day_df dan hour_df tidak ada data yang berisikan null\n",
        "- pada day_df dan hour_df tidak ada duplikasi data\n",
        "- kolom dteday memiliki tipe data object"
      ],
      "metadata": {
        "id": "7dtxhAPrkhPL"
      }
    },
    {
      "cell_type": "code",
      "source": [
        "day_df.describe()"
      ],
      "metadata": {
        "colab": {
          "base_uri": "https://localhost:8080/",
          "height": 320
        },
        "id": "OLr4Jt9c2weJ",
        "outputId": "90b6bb1c-7c13-4641-86d2-f7b5a58b444c"
      },
      "execution_count": 26,
      "outputs": [
        {
          "output_type": "execute_result",
          "data": {
            "text/plain": [
              "          instant      season          yr        mnth     holiday     weekday  \\\n",
              "count  731.000000  731.000000  731.000000  731.000000  731.000000  731.000000   \n",
              "mean   366.000000    2.496580    0.500684    6.519836    0.028728    2.997264   \n",
              "std    211.165812    1.110807    0.500342    3.451913    0.167155    2.004787   \n",
              "min      1.000000    1.000000    0.000000    1.000000    0.000000    0.000000   \n",
              "25%    183.500000    2.000000    0.000000    4.000000    0.000000    1.000000   \n",
              "50%    366.000000    3.000000    1.000000    7.000000    0.000000    3.000000   \n",
              "75%    548.500000    3.000000    1.000000   10.000000    0.000000    5.000000   \n",
              "max    731.000000    4.000000    1.000000   12.000000    1.000000    6.000000   \n",
              "\n",
              "       workingday  weathersit        temp       atemp         hum   windspeed  \\\n",
              "count  731.000000  731.000000  731.000000  731.000000  731.000000  731.000000   \n",
              "mean     0.683995    1.395349    0.495385    0.474354    0.627894    0.190486   \n",
              "std      0.465233    0.544894    0.183051    0.162961    0.142429    0.077498   \n",
              "min      0.000000    1.000000    0.059130    0.079070    0.000000    0.022392   \n",
              "25%      0.000000    1.000000    0.337083    0.337842    0.520000    0.134950   \n",
              "50%      1.000000    1.000000    0.498333    0.486733    0.626667    0.180975   \n",
              "75%      1.000000    2.000000    0.655417    0.608602    0.730209    0.233214   \n",
              "max      1.000000    3.000000    0.861667    0.840896    0.972500    0.507463   \n",
              "\n",
              "            casual   registered          cnt  \n",
              "count   731.000000   731.000000   731.000000  \n",
              "mean    848.176471  3656.172367  4504.348837  \n",
              "std     686.622488  1560.256377  1937.211452  \n",
              "min       2.000000    20.000000    22.000000  \n",
              "25%     315.500000  2497.000000  3152.000000  \n",
              "50%     713.000000  3662.000000  4548.000000  \n",
              "75%    1096.000000  4776.500000  5956.000000  \n",
              "max    3410.000000  6946.000000  8714.000000  "
            ],
            "text/html": [
              "\n",
              "  <div id=\"df-544cc09a-115b-48b8-b1a4-2a770c966d59\" class=\"colab-df-container\">\n",
              "    <div>\n",
              "<style scoped>\n",
              "    .dataframe tbody tr th:only-of-type {\n",
              "        vertical-align: middle;\n",
              "    }\n",
              "\n",
              "    .dataframe tbody tr th {\n",
              "        vertical-align: top;\n",
              "    }\n",
              "\n",
              "    .dataframe thead th {\n",
              "        text-align: right;\n",
              "    }\n",
              "</style>\n",
              "<table border=\"1\" class=\"dataframe\">\n",
              "  <thead>\n",
              "    <tr style=\"text-align: right;\">\n",
              "      <th></th>\n",
              "      <th>instant</th>\n",
              "      <th>season</th>\n",
              "      <th>yr</th>\n",
              "      <th>mnth</th>\n",
              "      <th>holiday</th>\n",
              "      <th>weekday</th>\n",
              "      <th>workingday</th>\n",
              "      <th>weathersit</th>\n",
              "      <th>temp</th>\n",
              "      <th>atemp</th>\n",
              "      <th>hum</th>\n",
              "      <th>windspeed</th>\n",
              "      <th>casual</th>\n",
              "      <th>registered</th>\n",
              "      <th>cnt</th>\n",
              "    </tr>\n",
              "  </thead>\n",
              "  <tbody>\n",
              "    <tr>\n",
              "      <th>count</th>\n",
              "      <td>731.000000</td>\n",
              "      <td>731.000000</td>\n",
              "      <td>731.000000</td>\n",
              "      <td>731.000000</td>\n",
              "      <td>731.000000</td>\n",
              "      <td>731.000000</td>\n",
              "      <td>731.000000</td>\n",
              "      <td>731.000000</td>\n",
              "      <td>731.000000</td>\n",
              "      <td>731.000000</td>\n",
              "      <td>731.000000</td>\n",
              "      <td>731.000000</td>\n",
              "      <td>731.000000</td>\n",
              "      <td>731.000000</td>\n",
              "      <td>731.000000</td>\n",
              "    </tr>\n",
              "    <tr>\n",
              "      <th>mean</th>\n",
              "      <td>366.000000</td>\n",
              "      <td>2.496580</td>\n",
              "      <td>0.500684</td>\n",
              "      <td>6.519836</td>\n",
              "      <td>0.028728</td>\n",
              "      <td>2.997264</td>\n",
              "      <td>0.683995</td>\n",
              "      <td>1.395349</td>\n",
              "      <td>0.495385</td>\n",
              "      <td>0.474354</td>\n",
              "      <td>0.627894</td>\n",
              "      <td>0.190486</td>\n",
              "      <td>848.176471</td>\n",
              "      <td>3656.172367</td>\n",
              "      <td>4504.348837</td>\n",
              "    </tr>\n",
              "    <tr>\n",
              "      <th>std</th>\n",
              "      <td>211.165812</td>\n",
              "      <td>1.110807</td>\n",
              "      <td>0.500342</td>\n",
              "      <td>3.451913</td>\n",
              "      <td>0.167155</td>\n",
              "      <td>2.004787</td>\n",
              "      <td>0.465233</td>\n",
              "      <td>0.544894</td>\n",
              "      <td>0.183051</td>\n",
              "      <td>0.162961</td>\n",
              "      <td>0.142429</td>\n",
              "      <td>0.077498</td>\n",
              "      <td>686.622488</td>\n",
              "      <td>1560.256377</td>\n",
              "      <td>1937.211452</td>\n",
              "    </tr>\n",
              "    <tr>\n",
              "      <th>min</th>\n",
              "      <td>1.000000</td>\n",
              "      <td>1.000000</td>\n",
              "      <td>0.000000</td>\n",
              "      <td>1.000000</td>\n",
              "      <td>0.000000</td>\n",
              "      <td>0.000000</td>\n",
              "      <td>0.000000</td>\n",
              "      <td>1.000000</td>\n",
              "      <td>0.059130</td>\n",
              "      <td>0.079070</td>\n",
              "      <td>0.000000</td>\n",
              "      <td>0.022392</td>\n",
              "      <td>2.000000</td>\n",
              "      <td>20.000000</td>\n",
              "      <td>22.000000</td>\n",
              "    </tr>\n",
              "    <tr>\n",
              "      <th>25%</th>\n",
              "      <td>183.500000</td>\n",
              "      <td>2.000000</td>\n",
              "      <td>0.000000</td>\n",
              "      <td>4.000000</td>\n",
              "      <td>0.000000</td>\n",
              "      <td>1.000000</td>\n",
              "      <td>0.000000</td>\n",
              "      <td>1.000000</td>\n",
              "      <td>0.337083</td>\n",
              "      <td>0.337842</td>\n",
              "      <td>0.520000</td>\n",
              "      <td>0.134950</td>\n",
              "      <td>315.500000</td>\n",
              "      <td>2497.000000</td>\n",
              "      <td>3152.000000</td>\n",
              "    </tr>\n",
              "    <tr>\n",
              "      <th>50%</th>\n",
              "      <td>366.000000</td>\n",
              "      <td>3.000000</td>\n",
              "      <td>1.000000</td>\n",
              "      <td>7.000000</td>\n",
              "      <td>0.000000</td>\n",
              "      <td>3.000000</td>\n",
              "      <td>1.000000</td>\n",
              "      <td>1.000000</td>\n",
              "      <td>0.498333</td>\n",
              "      <td>0.486733</td>\n",
              "      <td>0.626667</td>\n",
              "      <td>0.180975</td>\n",
              "      <td>713.000000</td>\n",
              "      <td>3662.000000</td>\n",
              "      <td>4548.000000</td>\n",
              "    </tr>\n",
              "    <tr>\n",
              "      <th>75%</th>\n",
              "      <td>548.500000</td>\n",
              "      <td>3.000000</td>\n",
              "      <td>1.000000</td>\n",
              "      <td>10.000000</td>\n",
              "      <td>0.000000</td>\n",
              "      <td>5.000000</td>\n",
              "      <td>1.000000</td>\n",
              "      <td>2.000000</td>\n",
              "      <td>0.655417</td>\n",
              "      <td>0.608602</td>\n",
              "      <td>0.730209</td>\n",
              "      <td>0.233214</td>\n",
              "      <td>1096.000000</td>\n",
              "      <td>4776.500000</td>\n",
              "      <td>5956.000000</td>\n",
              "    </tr>\n",
              "    <tr>\n",
              "      <th>max</th>\n",
              "      <td>731.000000</td>\n",
              "      <td>4.000000</td>\n",
              "      <td>1.000000</td>\n",
              "      <td>12.000000</td>\n",
              "      <td>1.000000</td>\n",
              "      <td>6.000000</td>\n",
              "      <td>1.000000</td>\n",
              "      <td>3.000000</td>\n",
              "      <td>0.861667</td>\n",
              "      <td>0.840896</td>\n",
              "      <td>0.972500</td>\n",
              "      <td>0.507463</td>\n",
              "      <td>3410.000000</td>\n",
              "      <td>6946.000000</td>\n",
              "      <td>8714.000000</td>\n",
              "    </tr>\n",
              "  </tbody>\n",
              "</table>\n",
              "</div>\n",
              "    <div class=\"colab-df-buttons\">\n",
              "\n",
              "  <div class=\"colab-df-container\">\n",
              "    <button class=\"colab-df-convert\" onclick=\"convertToInteractive('df-544cc09a-115b-48b8-b1a4-2a770c966d59')\"\n",
              "            title=\"Convert this dataframe to an interactive table.\"\n",
              "            style=\"display:none;\">\n",
              "\n",
              "  <svg xmlns=\"http://www.w3.org/2000/svg\" height=\"24px\" viewBox=\"0 -960 960 960\">\n",
              "    <path d=\"M120-120v-720h720v720H120Zm60-500h600v-160H180v160Zm220 220h160v-160H400v160Zm0 220h160v-160H400v160ZM180-400h160v-160H180v160Zm440 0h160v-160H620v160ZM180-180h160v-160H180v160Zm440 0h160v-160H620v160Z\"/>\n",
              "  </svg>\n",
              "    </button>\n",
              "\n",
              "  <style>\n",
              "    .colab-df-container {\n",
              "      display:flex;\n",
              "      gap: 12px;\n",
              "    }\n",
              "\n",
              "    .colab-df-convert {\n",
              "      background-color: #E8F0FE;\n",
              "      border: none;\n",
              "      border-radius: 50%;\n",
              "      cursor: pointer;\n",
              "      display: none;\n",
              "      fill: #1967D2;\n",
              "      height: 32px;\n",
              "      padding: 0 0 0 0;\n",
              "      width: 32px;\n",
              "    }\n",
              "\n",
              "    .colab-df-convert:hover {\n",
              "      background-color: #E2EBFA;\n",
              "      box-shadow: 0px 1px 2px rgba(60, 64, 67, 0.3), 0px 1px 3px 1px rgba(60, 64, 67, 0.15);\n",
              "      fill: #174EA6;\n",
              "    }\n",
              "\n",
              "    .colab-df-buttons div {\n",
              "      margin-bottom: 4px;\n",
              "    }\n",
              "\n",
              "    [theme=dark] .colab-df-convert {\n",
              "      background-color: #3B4455;\n",
              "      fill: #D2E3FC;\n",
              "    }\n",
              "\n",
              "    [theme=dark] .colab-df-convert:hover {\n",
              "      background-color: #434B5C;\n",
              "      box-shadow: 0px 1px 3px 1px rgba(0, 0, 0, 0.15);\n",
              "      filter: drop-shadow(0px 1px 2px rgba(0, 0, 0, 0.3));\n",
              "      fill: #FFFFFF;\n",
              "    }\n",
              "  </style>\n",
              "\n",
              "    <script>\n",
              "      const buttonEl =\n",
              "        document.querySelector('#df-544cc09a-115b-48b8-b1a4-2a770c966d59 button.colab-df-convert');\n",
              "      buttonEl.style.display =\n",
              "        google.colab.kernel.accessAllowed ? 'block' : 'none';\n",
              "\n",
              "      async function convertToInteractive(key) {\n",
              "        const element = document.querySelector('#df-544cc09a-115b-48b8-b1a4-2a770c966d59');\n",
              "        const dataTable =\n",
              "          await google.colab.kernel.invokeFunction('convertToInteractive',\n",
              "                                                    [key], {});\n",
              "        if (!dataTable) return;\n",
              "\n",
              "        const docLinkHtml = 'Like what you see? Visit the ' +\n",
              "          '<a target=\"_blank\" href=https://colab.research.google.com/notebooks/data_table.ipynb>data table notebook</a>'\n",
              "          + ' to learn more about interactive tables.';\n",
              "        element.innerHTML = '';\n",
              "        dataTable['output_type'] = 'display_data';\n",
              "        await google.colab.output.renderOutput(dataTable, element);\n",
              "        const docLink = document.createElement('div');\n",
              "        docLink.innerHTML = docLinkHtml;\n",
              "        element.appendChild(docLink);\n",
              "      }\n",
              "    </script>\n",
              "  </div>\n",
              "\n",
              "\n",
              "    <div id=\"df-69a1e68b-96bc-459a-a97e-0dfc0e6ecd7b\">\n",
              "      <button class=\"colab-df-quickchart\" onclick=\"quickchart('df-69a1e68b-96bc-459a-a97e-0dfc0e6ecd7b')\"\n",
              "                title=\"Suggest charts\"\n",
              "                style=\"display:none;\">\n",
              "\n",
              "<svg xmlns=\"http://www.w3.org/2000/svg\" height=\"24px\"viewBox=\"0 0 24 24\"\n",
              "     width=\"24px\">\n",
              "    <g>\n",
              "        <path d=\"M19 3H5c-1.1 0-2 .9-2 2v14c0 1.1.9 2 2 2h14c1.1 0 2-.9 2-2V5c0-1.1-.9-2-2-2zM9 17H7v-7h2v7zm4 0h-2V7h2v10zm4 0h-2v-4h2v4z\"/>\n",
              "    </g>\n",
              "</svg>\n",
              "      </button>\n",
              "\n",
              "<style>\n",
              "  .colab-df-quickchart {\n",
              "      --bg-color: #E8F0FE;\n",
              "      --fill-color: #1967D2;\n",
              "      --hover-bg-color: #E2EBFA;\n",
              "      --hover-fill-color: #174EA6;\n",
              "      --disabled-fill-color: #AAA;\n",
              "      --disabled-bg-color: #DDD;\n",
              "  }\n",
              "\n",
              "  [theme=dark] .colab-df-quickchart {\n",
              "      --bg-color: #3B4455;\n",
              "      --fill-color: #D2E3FC;\n",
              "      --hover-bg-color: #434B5C;\n",
              "      --hover-fill-color: #FFFFFF;\n",
              "      --disabled-bg-color: #3B4455;\n",
              "      --disabled-fill-color: #666;\n",
              "  }\n",
              "\n",
              "  .colab-df-quickchart {\n",
              "    background-color: var(--bg-color);\n",
              "    border: none;\n",
              "    border-radius: 50%;\n",
              "    cursor: pointer;\n",
              "    display: none;\n",
              "    fill: var(--fill-color);\n",
              "    height: 32px;\n",
              "    padding: 0;\n",
              "    width: 32px;\n",
              "  }\n",
              "\n",
              "  .colab-df-quickchart:hover {\n",
              "    background-color: var(--hover-bg-color);\n",
              "    box-shadow: 0 1px 2px rgba(60, 64, 67, 0.3), 0 1px 3px 1px rgba(60, 64, 67, 0.15);\n",
              "    fill: var(--button-hover-fill-color);\n",
              "  }\n",
              "\n",
              "  .colab-df-quickchart-complete:disabled,\n",
              "  .colab-df-quickchart-complete:disabled:hover {\n",
              "    background-color: var(--disabled-bg-color);\n",
              "    fill: var(--disabled-fill-color);\n",
              "    box-shadow: none;\n",
              "  }\n",
              "\n",
              "  .colab-df-spinner {\n",
              "    border: 2px solid var(--fill-color);\n",
              "    border-color: transparent;\n",
              "    border-bottom-color: var(--fill-color);\n",
              "    animation:\n",
              "      spin 1s steps(1) infinite;\n",
              "  }\n",
              "\n",
              "  @keyframes spin {\n",
              "    0% {\n",
              "      border-color: transparent;\n",
              "      border-bottom-color: var(--fill-color);\n",
              "      border-left-color: var(--fill-color);\n",
              "    }\n",
              "    20% {\n",
              "      border-color: transparent;\n",
              "      border-left-color: var(--fill-color);\n",
              "      border-top-color: var(--fill-color);\n",
              "    }\n",
              "    30% {\n",
              "      border-color: transparent;\n",
              "      border-left-color: var(--fill-color);\n",
              "      border-top-color: var(--fill-color);\n",
              "      border-right-color: var(--fill-color);\n",
              "    }\n",
              "    40% {\n",
              "      border-color: transparent;\n",
              "      border-right-color: var(--fill-color);\n",
              "      border-top-color: var(--fill-color);\n",
              "    }\n",
              "    60% {\n",
              "      border-color: transparent;\n",
              "      border-right-color: var(--fill-color);\n",
              "    }\n",
              "    80% {\n",
              "      border-color: transparent;\n",
              "      border-right-color: var(--fill-color);\n",
              "      border-bottom-color: var(--fill-color);\n",
              "    }\n",
              "    90% {\n",
              "      border-color: transparent;\n",
              "      border-bottom-color: var(--fill-color);\n",
              "    }\n",
              "  }\n",
              "</style>\n",
              "\n",
              "      <script>\n",
              "        async function quickchart(key) {\n",
              "          const quickchartButtonEl =\n",
              "            document.querySelector('#' + key + ' button');\n",
              "          quickchartButtonEl.disabled = true;  // To prevent multiple clicks.\n",
              "          quickchartButtonEl.classList.add('colab-df-spinner');\n",
              "          try {\n",
              "            const charts = await google.colab.kernel.invokeFunction(\n",
              "                'suggestCharts', [key], {});\n",
              "          } catch (error) {\n",
              "            console.error('Error during call to suggestCharts:', error);\n",
              "          }\n",
              "          quickchartButtonEl.classList.remove('colab-df-spinner');\n",
              "          quickchartButtonEl.classList.add('colab-df-quickchart-complete');\n",
              "        }\n",
              "        (() => {\n",
              "          let quickchartButtonEl =\n",
              "            document.querySelector('#df-69a1e68b-96bc-459a-a97e-0dfc0e6ecd7b button');\n",
              "          quickchartButtonEl.style.display =\n",
              "            google.colab.kernel.accessAllowed ? 'block' : 'none';\n",
              "        })();\n",
              "      </script>\n",
              "    </div>\n",
              "\n",
              "    </div>\n",
              "  </div>\n"
            ],
            "application/vnd.google.colaboratory.intrinsic+json": {
              "type": "dataframe",
              "summary": "{\n  \"name\": \"day_df\",\n  \"rows\": 8,\n  \"fields\": [\n    {\n      \"column\": \"instant\",\n      \"properties\": {\n        \"dtype\": \"number\",\n        \"std\": 263.151210562102,\n        \"min\": 1.0,\n        \"max\": 731.0,\n        \"num_unique_values\": 6,\n        \"samples\": [\n          731.0,\n          366.0,\n          548.5\n        ],\n        \"semantic_type\": \"\",\n        \"description\": \"\"\n      }\n    },\n    {\n      \"column\": \"season\",\n      \"properties\": {\n        \"dtype\": \"number\",\n        \"std\": 257.61068803932375,\n        \"min\": 1.0,\n        \"max\": 731.0,\n        \"num_unique_values\": 7,\n        \"samples\": [\n          731.0,\n          2.496580027359781,\n          3.0\n        ],\n        \"semantic_type\": \"\",\n        \"description\": \"\"\n      }\n    },\n    {\n      \"column\": \"yr\",\n      \"properties\": {\n        \"dtype\": \"number\",\n        \"std\": 258.2457820210964,\n        \"min\": 0.0,\n        \"max\": 731.0,\n        \"num_unique_values\": 5,\n        \"samples\": [\n          0.5006839945280438,\n          1.0,\n          0.5003418803818294\n        ],\n        \"semantic_type\": \"\",\n        \"description\": \"\"\n      }\n    },\n    {\n      \"column\": \"mnth\",\n      \"properties\": {\n        \"dtype\": \"number\",\n        \"std\": 256.251208377565,\n        \"min\": 1.0,\n        \"max\": 731.0,\n        \"num_unique_values\": 8,\n        \"samples\": [\n          6.519835841313269,\n          7.0,\n          731.0\n        ],\n        \"semantic_type\": \"\",\n        \"description\": \"\"\n      }\n    },\n    {\n      \"column\": \"holiday\",\n      \"properties\": {\n        \"dtype\": \"number\",\n        \"std\": 258.38735524952386,\n        \"min\": 0.0,\n        \"max\": 731.0,\n        \"num_unique_values\": 5,\n        \"samples\": [\n          0.028727770177838577,\n          1.0,\n          0.16715474262247393\n        ],\n        \"semantic_type\": \"\",\n        \"description\": \"\"\n      }\n    },\n    {\n      \"column\": \"weekday\",\n      \"properties\": {\n        \"dtype\": \"number\",\n        \"std\": 257.4447215833011,\n        \"min\": 0.0,\n        \"max\": 731.0,\n        \"num_unique_values\": 8,\n        \"samples\": [\n          2.997264021887825,\n          3.0,\n          731.0\n        ],\n        \"semantic_type\": \"\",\n        \"description\": \"\"\n      }\n    },\n    {\n      \"column\": \"workingday\",\n      \"properties\": {\n        \"dtype\": \"number\",\n        \"std\": 258.23829965962693,\n        \"min\": 0.0,\n        \"max\": 731.0,\n        \"num_unique_values\": 5,\n        \"samples\": [\n          0.6839945280437757,\n          1.0,\n          0.46523338667770103\n        ],\n        \"semantic_type\": \"\",\n        \"description\": \"\"\n      }\n    },\n    {\n      \"column\": \"weathersit\",\n      \"properties\": {\n        \"dtype\": \"number\",\n        \"std\": 257.94661363848155,\n        \"min\": 0.5448943419593629,\n        \"max\": 731.0,\n        \"num_unique_values\": 6,\n        \"samples\": [\n          731.0,\n          1.3953488372093024,\n          3.0\n        ],\n        \"semantic_type\": \"\",\n        \"description\": \"\"\n      }\n    },\n    {\n      \"column\": \"temp\",\n      \"properties\": {\n        \"dtype\": \"number\",\n        \"std\": 258.2915817037473,\n        \"min\": 0.0591304,\n        \"max\": 731.0,\n        \"num_unique_values\": 8,\n        \"samples\": [\n          0.495384788508892,\n          0.498333,\n          731.0\n        ],\n        \"semantic_type\": \"\",\n        \"description\": \"\"\n      }\n    },\n    {\n      \"column\": \"atemp\",\n      \"properties\": {\n        \"dtype\": \"number\",\n        \"std\": 258.2966006263005,\n        \"min\": 0.0790696,\n        \"max\": 731.0,\n        \"num_unique_values\": 8,\n        \"samples\": [\n          0.47435398864569084,\n          0.486733,\n          731.0\n        ],\n        \"semantic_type\": \"\",\n        \"description\": \"\"\n      }\n    },\n    {\n      \"column\": \"hum\",\n      \"properties\": {\n        \"dtype\": \"number\",\n        \"std\": 258.26489554668353,\n        \"min\": 0.0,\n        \"max\": 731.0,\n        \"num_unique_values\": 8,\n        \"samples\": [\n          0.6278940629274967,\n          0.626667,\n          731.0\n        ],\n        \"semantic_type\": \"\",\n        \"description\": \"\"\n      }\n    },\n    {\n      \"column\": \"windspeed\",\n      \"properties\": {\n        \"dtype\": \"number\",\n        \"std\": 258.37953633824185,\n        \"min\": 0.0223917,\n        \"max\": 731.0,\n        \"num_unique_values\": 8,\n        \"samples\": [\n          0.190486211627907,\n          0.180975,\n          731.0\n        ],\n        \"semantic_type\": \"\",\n        \"description\": \"\"\n      }\n    },\n    {\n      \"column\": \"casual\",\n      \"properties\": {\n        \"dtype\": \"number\",\n        \"std\": 1038.746523887882,\n        \"min\": 2.0,\n        \"max\": 3410.0,\n        \"num_unique_values\": 8,\n        \"samples\": [\n          848.1764705882352,\n          713.0,\n          731.0\n        ],\n        \"semantic_type\": \"\",\n        \"description\": \"\"\n      }\n    },\n    {\n      \"column\": \"registered\",\n      \"properties\": {\n        \"dtype\": \"number\",\n        \"std\": 2266.131168472822,\n        \"min\": 20.0,\n        \"max\": 6946.0,\n        \"num_unique_values\": 8,\n        \"samples\": [\n          3656.172366621067,\n          3662.0,\n          731.0\n        ],\n        \"semantic_type\": \"\",\n        \"description\": \"\"\n      }\n    },\n    {\n      \"column\": \"cnt\",\n      \"properties\": {\n        \"dtype\": \"number\",\n        \"std\": 2862.2176347716063,\n        \"min\": 22.0,\n        \"max\": 8714.0,\n        \"num_unique_values\": 8,\n        \"samples\": [\n          4504.3488372093025,\n          4548.0,\n          731.0\n        ],\n        \"semantic_type\": \"\",\n        \"description\": \"\"\n      }\n    }\n  ]\n}"
            }
          },
          "metadata": {},
          "execution_count": 26
        }
      ]
    },
    {
      "cell_type": "markdown",
      "source": [
        "day_df.describe() untuk melihat apakah ada data iregular pada day_df"
      ],
      "metadata": {
        "id": "DjiyNnhJPVKD"
      }
    },
    {
      "cell_type": "code",
      "source": [
        "hour_df.describe()"
      ],
      "metadata": {
        "colab": {
          "base_uri": "https://localhost:8080/",
          "height": 320
        },
        "id": "yReXhNrs5-5U",
        "outputId": "1a3f4499-769f-43fd-c2ec-3beacedea13b"
      },
      "execution_count": 27,
      "outputs": [
        {
          "output_type": "execute_result",
          "data": {
            "text/plain": [
              "          instant        season            yr          mnth            hr  \\\n",
              "count  17379.0000  17379.000000  17379.000000  17379.000000  17379.000000   \n",
              "mean    8690.0000      2.501640      0.502561      6.537775     11.546752   \n",
              "std     5017.0295      1.106918      0.500008      3.438776      6.914405   \n",
              "min        1.0000      1.000000      0.000000      1.000000      0.000000   \n",
              "25%     4345.5000      2.000000      0.000000      4.000000      6.000000   \n",
              "50%     8690.0000      3.000000      1.000000      7.000000     12.000000   \n",
              "75%    13034.5000      3.000000      1.000000     10.000000     18.000000   \n",
              "max    17379.0000      4.000000      1.000000     12.000000     23.000000   \n",
              "\n",
              "            holiday       weekday    workingday    weathersit          temp  \\\n",
              "count  17379.000000  17379.000000  17379.000000  17379.000000  17379.000000   \n",
              "mean       0.028770      3.003683      0.682721      1.425283      0.496987   \n",
              "std        0.167165      2.005771      0.465431      0.639357      0.192556   \n",
              "min        0.000000      0.000000      0.000000      1.000000      0.020000   \n",
              "25%        0.000000      1.000000      0.000000      1.000000      0.340000   \n",
              "50%        0.000000      3.000000      1.000000      1.000000      0.500000   \n",
              "75%        0.000000      5.000000      1.000000      2.000000      0.660000   \n",
              "max        1.000000      6.000000      1.000000      4.000000      1.000000   \n",
              "\n",
              "              atemp           hum     windspeed        casual    registered  \\\n",
              "count  17379.000000  17379.000000  17379.000000  17379.000000  17379.000000   \n",
              "mean       0.475775      0.627229      0.190098     35.676218    153.786869   \n",
              "std        0.171850      0.192930      0.122340     49.305030    151.357286   \n",
              "min        0.000000      0.000000      0.000000      0.000000      0.000000   \n",
              "25%        0.333300      0.480000      0.104500      4.000000     34.000000   \n",
              "50%        0.484800      0.630000      0.194000     17.000000    115.000000   \n",
              "75%        0.621200      0.780000      0.253700     48.000000    220.000000   \n",
              "max        1.000000      1.000000      0.850700    367.000000    886.000000   \n",
              "\n",
              "                cnt  \n",
              "count  17379.000000  \n",
              "mean     189.463088  \n",
              "std      181.387599  \n",
              "min        1.000000  \n",
              "25%       40.000000  \n",
              "50%      142.000000  \n",
              "75%      281.000000  \n",
              "max      977.000000  "
            ],
            "text/html": [
              "\n",
              "  <div id=\"df-982602e4-1e1f-4980-ae03-2711b05572dc\" class=\"colab-df-container\">\n",
              "    <div>\n",
              "<style scoped>\n",
              "    .dataframe tbody tr th:only-of-type {\n",
              "        vertical-align: middle;\n",
              "    }\n",
              "\n",
              "    .dataframe tbody tr th {\n",
              "        vertical-align: top;\n",
              "    }\n",
              "\n",
              "    .dataframe thead th {\n",
              "        text-align: right;\n",
              "    }\n",
              "</style>\n",
              "<table border=\"1\" class=\"dataframe\">\n",
              "  <thead>\n",
              "    <tr style=\"text-align: right;\">\n",
              "      <th></th>\n",
              "      <th>instant</th>\n",
              "      <th>season</th>\n",
              "      <th>yr</th>\n",
              "      <th>mnth</th>\n",
              "      <th>hr</th>\n",
              "      <th>holiday</th>\n",
              "      <th>weekday</th>\n",
              "      <th>workingday</th>\n",
              "      <th>weathersit</th>\n",
              "      <th>temp</th>\n",
              "      <th>atemp</th>\n",
              "      <th>hum</th>\n",
              "      <th>windspeed</th>\n",
              "      <th>casual</th>\n",
              "      <th>registered</th>\n",
              "      <th>cnt</th>\n",
              "    </tr>\n",
              "  </thead>\n",
              "  <tbody>\n",
              "    <tr>\n",
              "      <th>count</th>\n",
              "      <td>17379.0000</td>\n",
              "      <td>17379.000000</td>\n",
              "      <td>17379.000000</td>\n",
              "      <td>17379.000000</td>\n",
              "      <td>17379.000000</td>\n",
              "      <td>17379.000000</td>\n",
              "      <td>17379.000000</td>\n",
              "      <td>17379.000000</td>\n",
              "      <td>17379.000000</td>\n",
              "      <td>17379.000000</td>\n",
              "      <td>17379.000000</td>\n",
              "      <td>17379.000000</td>\n",
              "      <td>17379.000000</td>\n",
              "      <td>17379.000000</td>\n",
              "      <td>17379.000000</td>\n",
              "      <td>17379.000000</td>\n",
              "    </tr>\n",
              "    <tr>\n",
              "      <th>mean</th>\n",
              "      <td>8690.0000</td>\n",
              "      <td>2.501640</td>\n",
              "      <td>0.502561</td>\n",
              "      <td>6.537775</td>\n",
              "      <td>11.546752</td>\n",
              "      <td>0.028770</td>\n",
              "      <td>3.003683</td>\n",
              "      <td>0.682721</td>\n",
              "      <td>1.425283</td>\n",
              "      <td>0.496987</td>\n",
              "      <td>0.475775</td>\n",
              "      <td>0.627229</td>\n",
              "      <td>0.190098</td>\n",
              "      <td>35.676218</td>\n",
              "      <td>153.786869</td>\n",
              "      <td>189.463088</td>\n",
              "    </tr>\n",
              "    <tr>\n",
              "      <th>std</th>\n",
              "      <td>5017.0295</td>\n",
              "      <td>1.106918</td>\n",
              "      <td>0.500008</td>\n",
              "      <td>3.438776</td>\n",
              "      <td>6.914405</td>\n",
              "      <td>0.167165</td>\n",
              "      <td>2.005771</td>\n",
              "      <td>0.465431</td>\n",
              "      <td>0.639357</td>\n",
              "      <td>0.192556</td>\n",
              "      <td>0.171850</td>\n",
              "      <td>0.192930</td>\n",
              "      <td>0.122340</td>\n",
              "      <td>49.305030</td>\n",
              "      <td>151.357286</td>\n",
              "      <td>181.387599</td>\n",
              "    </tr>\n",
              "    <tr>\n",
              "      <th>min</th>\n",
              "      <td>1.0000</td>\n",
              "      <td>1.000000</td>\n",
              "      <td>0.000000</td>\n",
              "      <td>1.000000</td>\n",
              "      <td>0.000000</td>\n",
              "      <td>0.000000</td>\n",
              "      <td>0.000000</td>\n",
              "      <td>0.000000</td>\n",
              "      <td>1.000000</td>\n",
              "      <td>0.020000</td>\n",
              "      <td>0.000000</td>\n",
              "      <td>0.000000</td>\n",
              "      <td>0.000000</td>\n",
              "      <td>0.000000</td>\n",
              "      <td>0.000000</td>\n",
              "      <td>1.000000</td>\n",
              "    </tr>\n",
              "    <tr>\n",
              "      <th>25%</th>\n",
              "      <td>4345.5000</td>\n",
              "      <td>2.000000</td>\n",
              "      <td>0.000000</td>\n",
              "      <td>4.000000</td>\n",
              "      <td>6.000000</td>\n",
              "      <td>0.000000</td>\n",
              "      <td>1.000000</td>\n",
              "      <td>0.000000</td>\n",
              "      <td>1.000000</td>\n",
              "      <td>0.340000</td>\n",
              "      <td>0.333300</td>\n",
              "      <td>0.480000</td>\n",
              "      <td>0.104500</td>\n",
              "      <td>4.000000</td>\n",
              "      <td>34.000000</td>\n",
              "      <td>40.000000</td>\n",
              "    </tr>\n",
              "    <tr>\n",
              "      <th>50%</th>\n",
              "      <td>8690.0000</td>\n",
              "      <td>3.000000</td>\n",
              "      <td>1.000000</td>\n",
              "      <td>7.000000</td>\n",
              "      <td>12.000000</td>\n",
              "      <td>0.000000</td>\n",
              "      <td>3.000000</td>\n",
              "      <td>1.000000</td>\n",
              "      <td>1.000000</td>\n",
              "      <td>0.500000</td>\n",
              "      <td>0.484800</td>\n",
              "      <td>0.630000</td>\n",
              "      <td>0.194000</td>\n",
              "      <td>17.000000</td>\n",
              "      <td>115.000000</td>\n",
              "      <td>142.000000</td>\n",
              "    </tr>\n",
              "    <tr>\n",
              "      <th>75%</th>\n",
              "      <td>13034.5000</td>\n",
              "      <td>3.000000</td>\n",
              "      <td>1.000000</td>\n",
              "      <td>10.000000</td>\n",
              "      <td>18.000000</td>\n",
              "      <td>0.000000</td>\n",
              "      <td>5.000000</td>\n",
              "      <td>1.000000</td>\n",
              "      <td>2.000000</td>\n",
              "      <td>0.660000</td>\n",
              "      <td>0.621200</td>\n",
              "      <td>0.780000</td>\n",
              "      <td>0.253700</td>\n",
              "      <td>48.000000</td>\n",
              "      <td>220.000000</td>\n",
              "      <td>281.000000</td>\n",
              "    </tr>\n",
              "    <tr>\n",
              "      <th>max</th>\n",
              "      <td>17379.0000</td>\n",
              "      <td>4.000000</td>\n",
              "      <td>1.000000</td>\n",
              "      <td>12.000000</td>\n",
              "      <td>23.000000</td>\n",
              "      <td>1.000000</td>\n",
              "      <td>6.000000</td>\n",
              "      <td>1.000000</td>\n",
              "      <td>4.000000</td>\n",
              "      <td>1.000000</td>\n",
              "      <td>1.000000</td>\n",
              "      <td>1.000000</td>\n",
              "      <td>0.850700</td>\n",
              "      <td>367.000000</td>\n",
              "      <td>886.000000</td>\n",
              "      <td>977.000000</td>\n",
              "    </tr>\n",
              "  </tbody>\n",
              "</table>\n",
              "</div>\n",
              "    <div class=\"colab-df-buttons\">\n",
              "\n",
              "  <div class=\"colab-df-container\">\n",
              "    <button class=\"colab-df-convert\" onclick=\"convertToInteractive('df-982602e4-1e1f-4980-ae03-2711b05572dc')\"\n",
              "            title=\"Convert this dataframe to an interactive table.\"\n",
              "            style=\"display:none;\">\n",
              "\n",
              "  <svg xmlns=\"http://www.w3.org/2000/svg\" height=\"24px\" viewBox=\"0 -960 960 960\">\n",
              "    <path d=\"M120-120v-720h720v720H120Zm60-500h600v-160H180v160Zm220 220h160v-160H400v160Zm0 220h160v-160H400v160ZM180-400h160v-160H180v160Zm440 0h160v-160H620v160ZM180-180h160v-160H180v160Zm440 0h160v-160H620v160Z\"/>\n",
              "  </svg>\n",
              "    </button>\n",
              "\n",
              "  <style>\n",
              "    .colab-df-container {\n",
              "      display:flex;\n",
              "      gap: 12px;\n",
              "    }\n",
              "\n",
              "    .colab-df-convert {\n",
              "      background-color: #E8F0FE;\n",
              "      border: none;\n",
              "      border-radius: 50%;\n",
              "      cursor: pointer;\n",
              "      display: none;\n",
              "      fill: #1967D2;\n",
              "      height: 32px;\n",
              "      padding: 0 0 0 0;\n",
              "      width: 32px;\n",
              "    }\n",
              "\n",
              "    .colab-df-convert:hover {\n",
              "      background-color: #E2EBFA;\n",
              "      box-shadow: 0px 1px 2px rgba(60, 64, 67, 0.3), 0px 1px 3px 1px rgba(60, 64, 67, 0.15);\n",
              "      fill: #174EA6;\n",
              "    }\n",
              "\n",
              "    .colab-df-buttons div {\n",
              "      margin-bottom: 4px;\n",
              "    }\n",
              "\n",
              "    [theme=dark] .colab-df-convert {\n",
              "      background-color: #3B4455;\n",
              "      fill: #D2E3FC;\n",
              "    }\n",
              "\n",
              "    [theme=dark] .colab-df-convert:hover {\n",
              "      background-color: #434B5C;\n",
              "      box-shadow: 0px 1px 3px 1px rgba(0, 0, 0, 0.15);\n",
              "      filter: drop-shadow(0px 1px 2px rgba(0, 0, 0, 0.3));\n",
              "      fill: #FFFFFF;\n",
              "    }\n",
              "  </style>\n",
              "\n",
              "    <script>\n",
              "      const buttonEl =\n",
              "        document.querySelector('#df-982602e4-1e1f-4980-ae03-2711b05572dc button.colab-df-convert');\n",
              "      buttonEl.style.display =\n",
              "        google.colab.kernel.accessAllowed ? 'block' : 'none';\n",
              "\n",
              "      async function convertToInteractive(key) {\n",
              "        const element = document.querySelector('#df-982602e4-1e1f-4980-ae03-2711b05572dc');\n",
              "        const dataTable =\n",
              "          await google.colab.kernel.invokeFunction('convertToInteractive',\n",
              "                                                    [key], {});\n",
              "        if (!dataTable) return;\n",
              "\n",
              "        const docLinkHtml = 'Like what you see? Visit the ' +\n",
              "          '<a target=\"_blank\" href=https://colab.research.google.com/notebooks/data_table.ipynb>data table notebook</a>'\n",
              "          + ' to learn more about interactive tables.';\n",
              "        element.innerHTML = '';\n",
              "        dataTable['output_type'] = 'display_data';\n",
              "        await google.colab.output.renderOutput(dataTable, element);\n",
              "        const docLink = document.createElement('div');\n",
              "        docLink.innerHTML = docLinkHtml;\n",
              "        element.appendChild(docLink);\n",
              "      }\n",
              "    </script>\n",
              "  </div>\n",
              "\n",
              "\n",
              "    <div id=\"df-f9378225-bbd4-4977-ab4a-d5c4d0a2413c\">\n",
              "      <button class=\"colab-df-quickchart\" onclick=\"quickchart('df-f9378225-bbd4-4977-ab4a-d5c4d0a2413c')\"\n",
              "                title=\"Suggest charts\"\n",
              "                style=\"display:none;\">\n",
              "\n",
              "<svg xmlns=\"http://www.w3.org/2000/svg\" height=\"24px\"viewBox=\"0 0 24 24\"\n",
              "     width=\"24px\">\n",
              "    <g>\n",
              "        <path d=\"M19 3H5c-1.1 0-2 .9-2 2v14c0 1.1.9 2 2 2h14c1.1 0 2-.9 2-2V5c0-1.1-.9-2-2-2zM9 17H7v-7h2v7zm4 0h-2V7h2v10zm4 0h-2v-4h2v4z\"/>\n",
              "    </g>\n",
              "</svg>\n",
              "      </button>\n",
              "\n",
              "<style>\n",
              "  .colab-df-quickchart {\n",
              "      --bg-color: #E8F0FE;\n",
              "      --fill-color: #1967D2;\n",
              "      --hover-bg-color: #E2EBFA;\n",
              "      --hover-fill-color: #174EA6;\n",
              "      --disabled-fill-color: #AAA;\n",
              "      --disabled-bg-color: #DDD;\n",
              "  }\n",
              "\n",
              "  [theme=dark] .colab-df-quickchart {\n",
              "      --bg-color: #3B4455;\n",
              "      --fill-color: #D2E3FC;\n",
              "      --hover-bg-color: #434B5C;\n",
              "      --hover-fill-color: #FFFFFF;\n",
              "      --disabled-bg-color: #3B4455;\n",
              "      --disabled-fill-color: #666;\n",
              "  }\n",
              "\n",
              "  .colab-df-quickchart {\n",
              "    background-color: var(--bg-color);\n",
              "    border: none;\n",
              "    border-radius: 50%;\n",
              "    cursor: pointer;\n",
              "    display: none;\n",
              "    fill: var(--fill-color);\n",
              "    height: 32px;\n",
              "    padding: 0;\n",
              "    width: 32px;\n",
              "  }\n",
              "\n",
              "  .colab-df-quickchart:hover {\n",
              "    background-color: var(--hover-bg-color);\n",
              "    box-shadow: 0 1px 2px rgba(60, 64, 67, 0.3), 0 1px 3px 1px rgba(60, 64, 67, 0.15);\n",
              "    fill: var(--button-hover-fill-color);\n",
              "  }\n",
              "\n",
              "  .colab-df-quickchart-complete:disabled,\n",
              "  .colab-df-quickchart-complete:disabled:hover {\n",
              "    background-color: var(--disabled-bg-color);\n",
              "    fill: var(--disabled-fill-color);\n",
              "    box-shadow: none;\n",
              "  }\n",
              "\n",
              "  .colab-df-spinner {\n",
              "    border: 2px solid var(--fill-color);\n",
              "    border-color: transparent;\n",
              "    border-bottom-color: var(--fill-color);\n",
              "    animation:\n",
              "      spin 1s steps(1) infinite;\n",
              "  }\n",
              "\n",
              "  @keyframes spin {\n",
              "    0% {\n",
              "      border-color: transparent;\n",
              "      border-bottom-color: var(--fill-color);\n",
              "      border-left-color: var(--fill-color);\n",
              "    }\n",
              "    20% {\n",
              "      border-color: transparent;\n",
              "      border-left-color: var(--fill-color);\n",
              "      border-top-color: var(--fill-color);\n",
              "    }\n",
              "    30% {\n",
              "      border-color: transparent;\n",
              "      border-left-color: var(--fill-color);\n",
              "      border-top-color: var(--fill-color);\n",
              "      border-right-color: var(--fill-color);\n",
              "    }\n",
              "    40% {\n",
              "      border-color: transparent;\n",
              "      border-right-color: var(--fill-color);\n",
              "      border-top-color: var(--fill-color);\n",
              "    }\n",
              "    60% {\n",
              "      border-color: transparent;\n",
              "      border-right-color: var(--fill-color);\n",
              "    }\n",
              "    80% {\n",
              "      border-color: transparent;\n",
              "      border-right-color: var(--fill-color);\n",
              "      border-bottom-color: var(--fill-color);\n",
              "    }\n",
              "    90% {\n",
              "      border-color: transparent;\n",
              "      border-bottom-color: var(--fill-color);\n",
              "    }\n",
              "  }\n",
              "</style>\n",
              "\n",
              "      <script>\n",
              "        async function quickchart(key) {\n",
              "          const quickchartButtonEl =\n",
              "            document.querySelector('#' + key + ' button');\n",
              "          quickchartButtonEl.disabled = true;  // To prevent multiple clicks.\n",
              "          quickchartButtonEl.classList.add('colab-df-spinner');\n",
              "          try {\n",
              "            const charts = await google.colab.kernel.invokeFunction(\n",
              "                'suggestCharts', [key], {});\n",
              "          } catch (error) {\n",
              "            console.error('Error during call to suggestCharts:', error);\n",
              "          }\n",
              "          quickchartButtonEl.classList.remove('colab-df-spinner');\n",
              "          quickchartButtonEl.classList.add('colab-df-quickchart-complete');\n",
              "        }\n",
              "        (() => {\n",
              "          let quickchartButtonEl =\n",
              "            document.querySelector('#df-f9378225-bbd4-4977-ab4a-d5c4d0a2413c button');\n",
              "          quickchartButtonEl.style.display =\n",
              "            google.colab.kernel.accessAllowed ? 'block' : 'none';\n",
              "        })();\n",
              "      </script>\n",
              "    </div>\n",
              "\n",
              "    </div>\n",
              "  </div>\n"
            ],
            "application/vnd.google.colaboratory.intrinsic+json": {
              "type": "dataframe",
              "summary": "{\n  \"name\": \"hour_df\",\n  \"rows\": 8,\n  \"fields\": [\n    {\n      \"column\": \"instant\",\n      \"properties\": {\n        \"dtype\": \"number\",\n        \"std\": 6263.17088569678,\n        \"min\": 1.0,\n        \"max\": 17379.0,\n        \"num_unique_values\": 6,\n        \"samples\": [\n          17379.0,\n          8690.0,\n          13034.5\n        ],\n        \"semantic_type\": \"\",\n        \"description\": \"\"\n      }\n    },\n    {\n      \"column\": \"season\",\n      \"properties\": {\n        \"dtype\": \"number\",\n        \"std\": 6143.565598544762,\n        \"min\": 1.0,\n        \"max\": 17379.0,\n        \"num_unique_values\": 7,\n        \"samples\": [\n          17379.0,\n          2.5016399102364923,\n          3.0\n        ],\n        \"semantic_type\": \"\",\n        \"description\": \"\"\n      }\n    },\n    {\n      \"column\": \"yr\",\n      \"properties\": {\n        \"dtype\": \"number\",\n        \"std\": 6144.202229000585,\n        \"min\": 0.0,\n        \"max\": 17379.0,\n        \"num_unique_values\": 5,\n        \"samples\": [\n          0.5025605615973301,\n          1.0,\n          0.5000078290910674\n        ],\n        \"semantic_type\": \"\",\n        \"description\": \"\"\n      }\n    },\n    {\n      \"column\": \"mnth\",\n      \"properties\": {\n        \"dtype\": \"number\",\n        \"std\": 6142.184250617928,\n        \"min\": 1.0,\n        \"max\": 17379.0,\n        \"num_unique_values\": 8,\n        \"samples\": [\n          6.537775476149376,\n          7.0,\n          17379.0\n        ],\n        \"semantic_type\": \"\",\n        \"description\": \"\"\n      }\n    },\n    {\n      \"column\": \"hr\",\n      \"properties\": {\n        \"dtype\": \"number\",\n        \"std\": 6140.496148184536,\n        \"min\": 0.0,\n        \"max\": 17379.0,\n        \"num_unique_values\": 8,\n        \"samples\": [\n          11.546751826917545,\n          12.0,\n          17379.0\n        ],\n        \"semantic_type\": \"\",\n        \"description\": \"\"\n      }\n    },\n    {\n      \"column\": \"holiday\",\n      \"properties\": {\n        \"dtype\": \"number\",\n        \"std\": 6144.34398083374,\n        \"min\": 0.0,\n        \"max\": 17379.0,\n        \"num_unique_values\": 5,\n        \"samples\": [\n          0.028770355026181024,\n          1.0,\n          0.16716527638435244\n        ],\n        \"semantic_type\": \"\",\n        \"description\": \"\"\n      }\n    },\n    {\n      \"column\": \"weekday\",\n      \"properties\": {\n        \"dtype\": \"number\",\n        \"std\": 6143.394057236404,\n        \"min\": 0.0,\n        \"max\": 17379.0,\n        \"num_unique_values\": 8,\n        \"samples\": [\n          3.003682605443351,\n          3.0,\n          17379.0\n        ],\n        \"semantic_type\": \"\",\n        \"description\": \"\"\n      }\n    },\n    {\n      \"column\": \"workingday\",\n      \"properties\": {\n        \"dtype\": \"number\",\n        \"std\": 6144.194876084176,\n        \"min\": 0.0,\n        \"max\": 17379.0,\n        \"num_unique_values\": 5,\n        \"samples\": [\n          0.6827205247712756,\n          1.0,\n          0.46543063352387354\n        ],\n        \"semantic_type\": \"\",\n        \"description\": \"\"\n      }\n    },\n    {\n      \"column\": \"weathersit\",\n      \"properties\": {\n        \"dtype\": \"number\",\n        \"std\": 6143.845618830189,\n        \"min\": 0.6393568777543036,\n        \"max\": 17379.0,\n        \"num_unique_values\": 6,\n        \"samples\": [\n          17379.0,\n          1.425283387997008,\n          4.0\n        ],\n        \"semantic_type\": \"\",\n        \"description\": \"\"\n      }\n    },\n    {\n      \"column\": \"temp\",\n      \"properties\": {\n        \"dtype\": \"number\",\n        \"std\": 6144.242275843299,\n        \"min\": 0.02,\n        \"max\": 17379.0,\n        \"num_unique_values\": 8,\n        \"samples\": [\n          0.4969871684216583,\n          0.5,\n          17379.0\n        ],\n        \"semantic_type\": \"\",\n        \"description\": \"\"\n      }\n    },\n    {\n      \"column\": \"atemp\",\n      \"properties\": {\n        \"dtype\": \"number\",\n        \"std\": 6144.248469131704,\n        \"min\": 0.0,\n        \"max\": 17379.0,\n        \"num_unique_values\": 8,\n        \"samples\": [\n          0.4757751021347604,\n          0.4848,\n          17379.0\n        ],\n        \"semantic_type\": \"\",\n        \"description\": \"\"\n      }\n    },\n    {\n      \"column\": \"hum\",\n      \"properties\": {\n        \"dtype\": \"number\",\n        \"std\": 6144.216991945488,\n        \"min\": 0.0,\n        \"max\": 17379.0,\n        \"num_unique_values\": 8,\n        \"samples\": [\n          0.6272288394038783,\n          0.63,\n          17379.0\n        ],\n        \"semantic_type\": \"\",\n        \"description\": \"\"\n      }\n    },\n    {\n      \"column\": \"windspeed\",\n      \"properties\": {\n        \"dtype\": \"number\",\n        \"std\": 6144.317742909861,\n        \"min\": 0.0,\n        \"max\": 17379.0,\n        \"num_unique_values\": 8,\n        \"samples\": [\n          0.1900976063064618,\n          0.194,\n          17379.0\n        ],\n        \"semantic_type\": \"\",\n        \"description\": \"\"\n      }\n    },\n    {\n      \"column\": \"casual\",\n      \"properties\": {\n        \"dtype\": \"number\",\n        \"std\": 6119.284233238239,\n        \"min\": 0.0,\n        \"max\": 17379.0,\n        \"num_unique_values\": 8,\n        \"samples\": [\n          35.67621842453536,\n          17.0,\n          17379.0\n        ],\n        \"semantic_type\": \"\",\n        \"description\": \"\"\n      }\n    },\n    {\n      \"column\": \"registered\",\n      \"properties\": {\n        \"dtype\": \"number\",\n        \"std\": 6072.038722856437,\n        \"min\": 0.0,\n        \"max\": 17379.0,\n        \"num_unique_values\": 8,\n        \"samples\": [\n          153.78686920996606,\n          115.0,\n          17379.0\n        ],\n        \"semantic_type\": \"\",\n        \"description\": \"\"\n      }\n    },\n    {\n      \"column\": \"cnt\",\n      \"properties\": {\n        \"dtype\": \"number\",\n        \"std\": 6060.617601280442,\n        \"min\": 1.0,\n        \"max\": 17379.0,\n        \"num_unique_values\": 8,\n        \"samples\": [\n          189.46308763450142,\n          142.0,\n          17379.0\n        ],\n        \"semantic_type\": \"\",\n        \"description\": \"\"\n      }\n    }\n  ]\n}"
            }
          },
          "metadata": {},
          "execution_count": 27
        }
      ]
    },
    {
      "cell_type": "markdown",
      "source": [
        "hour_df.describe() untuk melihat apakah ada data iregular pada hour_df"
      ],
      "metadata": {
        "id": "L0e88e5FPg5P"
      }
    },
    {
      "cell_type": "markdown",
      "source": [
        "**Insight:**\n",
        "- tidak ada data iregular ditemukan"
      ],
      "metadata": {
        "id": "aNmdIr2R6u62"
      }
    },
    {
      "cell_type": "markdown",
      "metadata": {
        "id": "EhN5R4hr8DC1"
      },
      "source": [
        "### Cleaning Data"
      ]
    },
    {
      "cell_type": "code",
      "source": [
        "datetime_columns = [\"dteday\"]\n",
        "\n",
        "for column in datetime_columns:\n",
        "  day_df[column] = pd.to_datetime(day_df[column])\n",
        "\n",
        "day_df.info()"
      ],
      "metadata": {
        "id": "jVnYpprE9Evz",
        "colab": {
          "base_uri": "https://localhost:8080/"
        },
        "outputId": "5b701f84-0728-4d6e-9974-8d67027d3323"
      },
      "execution_count": 28,
      "outputs": [
        {
          "output_type": "stream",
          "name": "stdout",
          "text": [
            "<class 'pandas.core.frame.DataFrame'>\n",
            "RangeIndex: 731 entries, 0 to 730\n",
            "Data columns (total 16 columns):\n",
            " #   Column      Non-Null Count  Dtype         \n",
            "---  ------      --------------  -----         \n",
            " 0   instant     731 non-null    int64         \n",
            " 1   dteday      731 non-null    datetime64[ns]\n",
            " 2   season      731 non-null    int64         \n",
            " 3   yr          731 non-null    int64         \n",
            " 4   mnth        731 non-null    int64         \n",
            " 5   holiday     731 non-null    int64         \n",
            " 6   weekday     731 non-null    int64         \n",
            " 7   workingday  731 non-null    int64         \n",
            " 8   weathersit  731 non-null    int64         \n",
            " 9   temp        731 non-null    float64       \n",
            " 10  atemp       731 non-null    float64       \n",
            " 11  hum         731 non-null    float64       \n",
            " 12  windspeed   731 non-null    float64       \n",
            " 13  casual      731 non-null    int64         \n",
            " 14  registered  731 non-null    int64         \n",
            " 15  cnt         731 non-null    int64         \n",
            "dtypes: datetime64[ns](1), float64(4), int64(11)\n",
            "memory usage: 91.5 KB\n"
          ]
        }
      ]
    },
    {
      "cell_type": "markdown",
      "source": [
        "untuk mengubah tipe data pada kolom dteday pada day_df"
      ],
      "metadata": {
        "id": "EczTx-AOPkFV"
      }
    },
    {
      "cell_type": "code",
      "source": [
        "datetime_columns = [\"dteday\"]\n",
        "\n",
        "for column in datetime_columns:\n",
        "  hour_df[column] = pd.to_datetime(hour_df[column])\n",
        "\n",
        "hour_df.info()"
      ],
      "metadata": {
        "colab": {
          "base_uri": "https://localhost:8080/"
        },
        "id": "bcQ9WOfM7gJz",
        "outputId": "79c0135f-e46a-4ec9-aeed-8c4f94a81713"
      },
      "execution_count": 29,
      "outputs": [
        {
          "output_type": "stream",
          "name": "stdout",
          "text": [
            "<class 'pandas.core.frame.DataFrame'>\n",
            "RangeIndex: 17379 entries, 0 to 17378\n",
            "Data columns (total 17 columns):\n",
            " #   Column      Non-Null Count  Dtype         \n",
            "---  ------      --------------  -----         \n",
            " 0   instant     17379 non-null  int64         \n",
            " 1   dteday      17379 non-null  datetime64[ns]\n",
            " 2   season      17379 non-null  int64         \n",
            " 3   yr          17379 non-null  int64         \n",
            " 4   mnth        17379 non-null  int64         \n",
            " 5   hr          17379 non-null  int64         \n",
            " 6   holiday     17379 non-null  int64         \n",
            " 7   weekday     17379 non-null  int64         \n",
            " 8   workingday  17379 non-null  int64         \n",
            " 9   weathersit  17379 non-null  int64         \n",
            " 10  temp        17379 non-null  float64       \n",
            " 11  atemp       17379 non-null  float64       \n",
            " 12  hum         17379 non-null  float64       \n",
            " 13  windspeed   17379 non-null  float64       \n",
            " 14  casual      17379 non-null  int64         \n",
            " 15  registered  17379 non-null  int64         \n",
            " 16  cnt         17379 non-null  int64         \n",
            "dtypes: datetime64[ns](1), float64(4), int64(12)\n",
            "memory usage: 2.3 MB\n"
          ]
        }
      ]
    },
    {
      "cell_type": "markdown",
      "source": [
        "untuk mengubah tipe data pada kolom dteday pada hour_df"
      ],
      "metadata": {
        "id": "vHBI6gSuPrhU"
      }
    },
    {
      "cell_type": "markdown",
      "source": [
        "**Insight:**\n",
        "- mengubah tipe data kolom dteday pada day_df dan hour_df menjadi datetime64[ns]"
      ],
      "metadata": {
        "id": "Q_5ejIqckiSP"
      }
    },
    {
      "cell_type": "markdown",
      "metadata": {
        "id": "gp-Y6wU38DC1"
      },
      "source": [
        "## Exploratory Data Analysis (EDA)"
      ]
    },
    {
      "cell_type": "markdown",
      "metadata": {
        "id": "MW7WF2kr8DC1"
      },
      "source": [
        "### Explore ..."
      ]
    },
    {
      "cell_type": "code",
      "source": [
        "day_df.groupby('season')['cnt'].mean()"
      ],
      "metadata": {
        "colab": {
          "base_uri": "https://localhost:8080/",
          "height": 241
        },
        "id": "agjhwW-DZ46L",
        "outputId": "2adbce56-3bbe-46db-e73a-99b7a273988a"
      },
      "execution_count": 30,
      "outputs": [
        {
          "output_type": "execute_result",
          "data": {
            "text/plain": [
              "season\n",
              "1    2604.132597\n",
              "2    4992.331522\n",
              "3    5644.303191\n",
              "4    4728.162921\n",
              "Name: cnt, dtype: float64"
            ],
            "text/html": [
              "<div>\n",
              "<style scoped>\n",
              "    .dataframe tbody tr th:only-of-type {\n",
              "        vertical-align: middle;\n",
              "    }\n",
              "\n",
              "    .dataframe tbody tr th {\n",
              "        vertical-align: top;\n",
              "    }\n",
              "\n",
              "    .dataframe thead th {\n",
              "        text-align: right;\n",
              "    }\n",
              "</style>\n",
              "<table border=\"1\" class=\"dataframe\">\n",
              "  <thead>\n",
              "    <tr style=\"text-align: right;\">\n",
              "      <th></th>\n",
              "      <th>cnt</th>\n",
              "    </tr>\n",
              "    <tr>\n",
              "      <th>season</th>\n",
              "      <th></th>\n",
              "    </tr>\n",
              "  </thead>\n",
              "  <tbody>\n",
              "    <tr>\n",
              "      <th>1</th>\n",
              "      <td>2604.132597</td>\n",
              "    </tr>\n",
              "    <tr>\n",
              "      <th>2</th>\n",
              "      <td>4992.331522</td>\n",
              "    </tr>\n",
              "    <tr>\n",
              "      <th>3</th>\n",
              "      <td>5644.303191</td>\n",
              "    </tr>\n",
              "    <tr>\n",
              "      <th>4</th>\n",
              "      <td>4728.162921</td>\n",
              "    </tr>\n",
              "  </tbody>\n",
              "</table>\n",
              "</div><br><label><b>dtype:</b> float64</label>"
            ]
          },
          "metadata": {},
          "execution_count": 30
        }
      ]
    },
    {
      "cell_type": "markdown",
      "source": [
        "untuk mengetahui rata - rata penyewaan pada setiap musim"
      ],
      "metadata": {
        "id": "WTLMXUQ8d4Cq"
      }
    },
    {
      "cell_type": "code",
      "source": [
        "day_df.groupby('weathersit')['cnt'].mean()"
      ],
      "metadata": {
        "colab": {
          "base_uri": "https://localhost:8080/",
          "height": 209
        },
        "id": "_6APpTQseGXw",
        "outputId": "aee40aad-7e67-48cd-cfd0-9de374bb55f5"
      },
      "execution_count": 31,
      "outputs": [
        {
          "output_type": "execute_result",
          "data": {
            "text/plain": [
              "weathersit\n",
              "1    4876.786177\n",
              "2    4035.862348\n",
              "3    1803.285714\n",
              "Name: cnt, dtype: float64"
            ],
            "text/html": [
              "<div>\n",
              "<style scoped>\n",
              "    .dataframe tbody tr th:only-of-type {\n",
              "        vertical-align: middle;\n",
              "    }\n",
              "\n",
              "    .dataframe tbody tr th {\n",
              "        vertical-align: top;\n",
              "    }\n",
              "\n",
              "    .dataframe thead th {\n",
              "        text-align: right;\n",
              "    }\n",
              "</style>\n",
              "<table border=\"1\" class=\"dataframe\">\n",
              "  <thead>\n",
              "    <tr style=\"text-align: right;\">\n",
              "      <th></th>\n",
              "      <th>cnt</th>\n",
              "    </tr>\n",
              "    <tr>\n",
              "      <th>weathersit</th>\n",
              "      <th></th>\n",
              "    </tr>\n",
              "  </thead>\n",
              "  <tbody>\n",
              "    <tr>\n",
              "      <th>1</th>\n",
              "      <td>4876.786177</td>\n",
              "    </tr>\n",
              "    <tr>\n",
              "      <th>2</th>\n",
              "      <td>4035.862348</td>\n",
              "    </tr>\n",
              "    <tr>\n",
              "      <th>3</th>\n",
              "      <td>1803.285714</td>\n",
              "    </tr>\n",
              "  </tbody>\n",
              "</table>\n",
              "</div><br><label><b>dtype:</b> float64</label>"
            ]
          },
          "metadata": {},
          "execution_count": 31
        }
      ]
    },
    {
      "cell_type": "markdown",
      "source": [
        "untuk mengetahui rata - rata penyewaan pada setiap cuaca"
      ],
      "metadata": {
        "id": "AG6JcvmLeNrt"
      }
    },
    {
      "cell_type": "code",
      "source": [
        "monthly_rentals = day_df.groupby('mnth')['cnt'].sum().reset_index()\n",
        "monthly_rentals.columns = ['Month', 'Total_Rentals']\n",
        "print(monthly_rentals)"
      ],
      "metadata": {
        "colab": {
          "base_uri": "https://localhost:8080/"
        },
        "id": "GFXAKVclExEx",
        "outputId": "a4e3d1e9-e215-43a1-dc3f-59bbaaa76dac"
      },
      "execution_count": 32,
      "outputs": [
        {
          "output_type": "stream",
          "name": "stdout",
          "text": [
            "    Month  Total_Rentals\n",
            "0       1         134933\n",
            "1       2         151352\n",
            "2       3         228920\n",
            "3       4         269094\n",
            "4       5         331686\n",
            "5       6         346342\n",
            "6       7         344948\n",
            "7       8         351194\n",
            "8       9         345991\n",
            "9      10         322352\n",
            "10     11         254831\n",
            "11     12         211036\n"
          ]
        }
      ]
    },
    {
      "cell_type": "markdown",
      "source": [
        "Menunjukkan data pada day_df berdasarkan kolom mnth yang berisikan jumlah penyewaan(cnt)"
      ],
      "metadata": {
        "id": "Nt0Y2WsePvXB"
      }
    },
    {
      "cell_type": "code",
      "source": [
        "seasonal_rentals = day_df.groupby('season')['cnt'].sum().reset_index()\n",
        "seasonal_rentals.columns = ['season', 'Total_Rentals']\n",
        "print(seasonal_rentals)"
      ],
      "metadata": {
        "colab": {
          "base_uri": "https://localhost:8080/"
        },
        "id": "BPJsjR5JLv5X",
        "outputId": "c83c0f5b-b159-4cca-d04d-e93d4bd277cf"
      },
      "execution_count": 33,
      "outputs": [
        {
          "output_type": "stream",
          "name": "stdout",
          "text": [
            "   season  Total_Rentals\n",
            "0       1         471348\n",
            "1       2         918589\n",
            "2       3        1061129\n",
            "3       4         841613\n"
          ]
        }
      ]
    },
    {
      "cell_type": "markdown",
      "source": [
        "Menunjukkan data pada day_df berdasarkan kolom season yang berisikan jumlah penyewaan(cnt)"
      ],
      "metadata": {
        "id": "kA31FIMSP9pL"
      }
    },
    {
      "cell_type": "code",
      "source": [
        "weather_rentals = day_df.groupby('weathersit')['cnt'].sum().reset_index()\n",
        "weather_rentals.columns = ['weathersit', 'Total_Rentals']\n",
        "print(weather_rentals)"
      ],
      "metadata": {
        "colab": {
          "base_uri": "https://localhost:8080/"
        },
        "id": "R29-c2pzODil",
        "outputId": "c5d22f4c-d60d-486d-aa8c-de0139654747"
      },
      "execution_count": 34,
      "outputs": [
        {
          "output_type": "stream",
          "name": "stdout",
          "text": [
            "   weathersit  Total_Rentals\n",
            "0           1        2257952\n",
            "1           2         996858\n",
            "2           3          37869\n"
          ]
        }
      ]
    },
    {
      "cell_type": "markdown",
      "source": [
        "Menunjukkan data pada day_df berdasarkan kolom weathersit yang berisikan jumlah penyewaan(cnt)"
      ],
      "metadata": {
        "id": "XmOKEwVqQBKd"
      }
    },
    {
      "cell_type": "markdown",
      "source": [
        "**Insight:**\n",
        "Dari informasi di atas kita bisa mendapatkan informasi mengenai banyak rental pada bulan, season, dan weather tertentu :\n",
        "- rata-rata penyewaan terbanyak berdasarkan season ada pada season 3\n",
        "- rata-rata penyewaan paling sedikit berdasarkan season ada pada season 1\n",
        "\n",
        "- rata-rata penyewaan terbanyak berdasarkan weathersit ada pada weathersit 1\n",
        "-  rata-rata penyewaan paling sedikit berdasarkan weathersit ada pada weathersit 4\n",
        "\n",
        "- Jumlah penyewaan terbanyak berdasarkan bulan ada pada bulan Agustus\n",
        "- Jumlah penyewaan paling sedikit berdasarkan bulan ada pada bulan Januari\n",
        "\n",
        "- Jumlah penyewaan terbanyak berdasarkan season ada pada season 3\n",
        "- Jumlah penyewaan paling sedikit berdasarkan season ada pada season 1\n",
        "\n",
        "- Jumlah penyewaan terbanyak berdasarkan weathersit ada pada weathersit 1\n",
        "- Jumlah penyewaan paling sedikit berdasarkan weathersit ada pada weathersit 4"
      ],
      "metadata": {
        "id": "th_Lzl2Fkj9O"
      }
    },
    {
      "cell_type": "markdown",
      "metadata": {
        "id": "zsyZjqak8DC2"
      },
      "source": [
        "## Visualization & Explanatory Analysis"
      ]
    },
    {
      "cell_type": "markdown",
      "metadata": {
        "id": "HZxOiQ6n8DC2"
      },
      "source": [
        "### Pertanyaan 1:"
      ]
    },
    {
      "cell_type": "code",
      "execution_count": 35,
      "metadata": {
        "id": "1swJUdAD8DC2",
        "colab": {
          "base_uri": "https://localhost:8080/",
          "height": 487
        },
        "outputId": "4077440c-8424-4525-e73d-677e8c53f7bd"
      },
      "outputs": [
        {
          "output_type": "display_data",
          "data": {
            "text/plain": [
              "<Figure size 800x500 with 1 Axes>"
            ],
            "image/png": "[encoded data removed]"
          },
          "metadata": {}
        }
      ],
      "source": [
        "monthly_rentals['Month_Name'] = monthly_rentals['Month'].apply(lambda x: calendar.month_abbr[x])\n",
        "\n",
        "plt.figure(figsize=(8, 5))\n",
        "plt.bar(monthly_rentals['Month_Name'], monthly_rentals['Total_Rentals'], color='skyblue', edgecolor='black')\n",
        "\n",
        "plt.xlabel('Month')\n",
        "plt.ylabel('Total Bike Rentals')\n",
        "plt.title('Total Bike Rentals per Month')\n",
        "plt.grid(axis='y', linestyle='--', alpha=0.7)\n",
        "plt.show()"
      ]
    },
    {
      "cell_type": "markdown",
      "source": [
        "Menunjukkan data pada day_df berdasarkan kolom mnth yang berisikan jumlah penyewaan dengan menggunakan bar chart"
      ],
      "metadata": {
        "id": "6EcQXIUqQF--"
      }
    },
    {
      "cell_type": "markdown",
      "metadata": {
        "id": "DgHI7CiU8DC2"
      },
      "source": [
        "### Pertanyaan 2:"
      ]
    },
    {
      "cell_type": "code",
      "source": [
        "avg_per_season = day_df.groupby('season')['cnt'].mean().reset_index()\n",
        "\n",
        "season_labels = {1: 'Winter', 2: 'Spring', 3: 'Summer', 4: 'Fall'}\n",
        "avg_per_season['season'] = avg_per_season['season'].map(season_labels)\n",
        "\n",
        "plt.figure(figsize=(8,5))\n",
        "sns.barplot(x='season', y='cnt', data=avg_per_season, palette='coolwarm')\n",
        "\n",
        "plt.title('Rata-rata Penyewaan Sepeda per Musim', fontsize=14)\n",
        "plt.xlabel('Musim')\n",
        "plt.ylabel('Rata-rata Penyewaan per Hari')\n",
        "plt.grid(axis='y', linestyle='--', alpha=0.6)\n",
        "plt.show()"
      ],
      "metadata": {
        "colab": {
          "base_uri": "https://localhost:8080/",
          "height": 595
        },
        "id": "HLERPrn8mD86",
        "outputId": "0342b94e-cd79-4aa5-eba1-2b8786b3e4a1"
      },
      "execution_count": 36,
      "outputs": [
        {
          "output_type": "stream",
          "name": "stderr",
          "text": [
            "/tmp/ipython-input-2399602725.py:7: FutureWarning: \n",
            "\n",
            "Passing `palette` without assigning `hue` is deprecated and will be removed in v0.14.0. Assign the `x` variable to `hue` and set `legend=False` for the same effect.\n",
            "\n",
            "  sns.barplot(x='season', y='cnt', data=avg_per_season, palette='coolwarm')\n"
          ]
        },
        {
          "output_type": "display_data",
          "data": {
            "text/plain": [
              "<Figure size 800x500 with 1 Axes>"
            ],
            "image/png": "[encoded data removed]"
          },
          "metadata": {}
        }
      ]
    },
    {
      "cell_type": "markdown",
      "source": [
        "Menunjukkan rata - rata penyewaan sepeda pada setiap musim"
      ],
      "metadata": {
        "id": "gsuqgXinnfxx"
      }
    },
    {
      "cell_type": "markdown",
      "source": [
        "### Pertanyaan 3:"
      ],
      "metadata": {
        "id": "UJdYb8rqTPEo"
      }
    },
    {
      "cell_type": "code",
      "source": [
        "weather_rentals['Weather_Desc'] = weather_rentals['weathersit'].replace({\n",
        "    1: 'Clear / Partly Cloudy',\n",
        "    2: 'Mist / Cloudy',\n",
        "    3: 'Light Snow / Rain',\n",
        "    4: 'Heavy Rain / Snow / Fog'\n",
        "})\n",
        "\n",
        "plt.figure(figsize=(8,5))\n",
        "plt.bar(weather_rentals['Weather_Desc'], weather_rentals['Total_Rentals'], color='lightcoral', edgecolor='black')\n",
        "plt.xlabel('Weather Situation')\n",
        "plt.ylabel('Total Bike Rentals')\n",
        "plt.title('Total Bike Rentals per Weather Condition')\n",
        "plt.xticks(rotation=15)\n",
        "plt.grid(axis='y', linestyle='--', alpha=0.7)\n",
        "plt.show()"
      ],
      "metadata": {
        "colab": {
          "base_uri": "https://localhost:8080/",
          "height": 0
        },
        "id": "wGvSZZliTYWF",
        "outputId": "4743ac41-913f-4650-e49c-5a9980d86c48"
      },
      "execution_count": 37,
      "outputs": [
        {
          "output_type": "display_data",
          "data": {
            "text/plain": [
              "<Figure size 800x500 with 1 Axes>"
            ],
            "image/png": "[encoded data removed]"
          },
          "metadata": {}
        }
      ]
    },
    {
      "cell_type": "markdown",
      "source": [
        "Menunjukkan data pada day_df berdasarkan kolom weathersit yang berisikan jumlah penyewaan dengan menggunakan bar chart"
      ],
      "metadata": {
        "id": "0E3D-wJ5QRZY"
      }
    },
    {
      "cell_type": "markdown",
      "source": [
        "### Pertanyaan 4:"
      ],
      "metadata": {
        "id": "sQoIlZ7Zpa9a"
      }
    },
    {
      "cell_type": "code",
      "source": [
        "avg_per_weather = day_df.groupby('weathersit')['cnt'].mean().reset_index()\n",
        "\n",
        "weather_labels = {\n",
        "    1: 'Clear / Partly Cloudy',\n",
        "    2: 'Mist / Cloudy',\n",
        "    3: 'Light Snow / Rain',\n",
        "    4: 'Heavy Rain / Snow / Fog'}\n",
        "\n",
        "avg_per_weather['weathersit'] = avg_per_weather['weathersit'].map(weather_labels)\n",
        "\n",
        "plt.figure(figsize=(8,5))\n",
        "sns.barplot(x='weathersit', y='cnt', data=avg_per_weather, palette='coolwarm')\n",
        "\n",
        "plt.title('Rata-rata Penyewaan Sepeda per cuaca', fontsize=14)\n",
        "plt.xlabel('cuaca')\n",
        "plt.ylabel('Rata-rata Penyewaan per Hari')\n",
        "plt.grid(axis='y', linestyle='--', alpha=0.6)\n",
        "plt.show()"
      ],
      "metadata": {
        "colab": {
          "base_uri": "https://localhost:8080/",
          "height": 595
        },
        "id": "1jG79oG1negZ",
        "outputId": "26edcdc7-0008-4711-d046-21e54f468b40"
      },
      "execution_count": 38,
      "outputs": [
        {
          "output_type": "stream",
          "name": "stderr",
          "text": [
            "/tmp/ipython-input-2341266675.py:12: FutureWarning: \n",
            "\n",
            "Passing `palette` without assigning `hue` is deprecated and will be removed in v0.14.0. Assign the `x` variable to `hue` and set `legend=False` for the same effect.\n",
            "\n",
            "  sns.barplot(x='weathersit', y='cnt', data=avg_per_weather, palette='coolwarm')\n"
          ]
        },
        {
          "output_type": "display_data",
          "data": {
            "text/plain": [
              "<Figure size 800x500 with 1 Axes>"
            ],
            "image/png": "[encoded data removed]"
          },
          "metadata": {}
        }
      ]
    },
    {
      "cell_type": "markdown",
      "source": [
        "Menunjukkan rata - rata penyewaan pada setiap cuaca"
      ],
      "metadata": {
        "id": "z5YVKr5tov6b"
      }
    },
    {
      "cell_type": "markdown",
      "metadata": {
        "id": "_WeHlCeX8DC2"
      },
      "source": [
        "## Conclusion"
      ]
    },
    {
      "cell_type": "markdown",
      "metadata": {
        "id": "ZTcyR48Y8DC2"
      },
      "source": [
        "- Conclution pertanyaan 1 : Penyewaan sepeda mencapai puncak tertinggi pada bulan Agustus, sedangkan terendah pada bulan Januari. Hal ini kemungkinan disebabkan oleh kondisi cuaca yang lebih hangat dan hari yang lebih panjang di musim panas, sementara pada bulan Januari (musim dingin) suhu yang rendah membuat aktivitas luar ruangan berkurang.\n",
        "\n",
        "  Rekomendasi: meningkatkan stok dan ketersediaan sepeda menjelang pertengahan tahun (musim panas) untuk mengantisipasi lonjakan permintaan.\n",
        "  \n",
        "  Sebaliknya, pada musim dingin, perusahaan bisa mengoptimalkan promosi atau diskon khusus untuk menjaga minat penyewaan tetap stabil.\n",
        "\n",
        "- Conclution pertanyaan 2 : Musim Summer (musim panas) memiliki rata-rata penyewaan sepeda tertinggi, sedangkan Winter (musim dingin) memiliki penyewaan paling rendah. Kondisi ini wajar karena cuaca cerah dan suhu hangat lebih mendukung aktivitas bersepeda.\n",
        "\n",
        "  Rekomendasi: Fokuskan strategi pemasaran dan perawatan sepeda menjelang musim panas agar sepeda dalam kondisi optimal. Selain itu, pertimbangkan untuk mengembangkan layanan alternatif di musim dingin, seperti penyewaan indoor cycling atau program loyalitas untuk pelanggan tetap.\n",
        "\n",
        "- Conclusion pertanyaan 3 : Penyewaan sepeda tertinggi terjadi saat cuaca cerah atau berawan sebagian (Clear/Partly Cloudy), sedangkan terendah pada cuaca hujan deras (Heavy Rain). Cuaca ekstrem jelas menurunkan minat masyarakat untuk bersepeda.\n",
        "\n",
        "  Rekomendasi : Pertimbangkan untuk menambahkan fitur informasi cuaca pada aplikasi penyewaan agar pengguna dapat merencanakan aktivitasnya. Selain itu, sediakan penutup pelindung hujan atau area parkir tertutup untuk meningkatkan kenyamanan pengguna saat cuaca tidak menentu.\n",
        "\n",
        "- Conclusion pertanyaan 4 : Sebagian pengguna masih tetap menyewa sepeda saat hujan ringan, tetapi rata-rata jumlah penyewaan turun drastis dibanding hari tanpa hujan. Ini menunjukkan sensitivitas pengguna terhadap kondisi cuaca meski intensitas hujan rendah.\n",
        "\n",
        "  Rekomendasi: Untuk menjaga kestabilan penyewaan saat hujan ringan, perusahaan dapat menyediakan jas hujan ringan atau perlengkapan pelindung sebagai bagian dari layanan tambahan. Selain itu, program insentif atau potongan harga saat cuaca kurang ideal bisa membantu meningkatkan jumlah penyewaan."
      ]
    }
  ]
}